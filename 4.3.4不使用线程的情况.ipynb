{
 "cells": [
  {
   "cell_type": "markdown",
   "metadata": {},
   "source": [
    "# time.sleep()演示线程是如何工作的"
   ]
  },
  {
   "cell_type": "markdown",
   "metadata": {},
   "source": [
    "time.sleep()需要一个浮点型的参数，然后以这个给定的秒数进行“睡眠”，也就是说，程序的执行会被暂时停止指定的时间。"
   ]
  },
  {
   "cell_type": "code",
   "execution_count": 7,
   "metadata": {},
   "outputs": [
    {
     "name": "stdout",
     "output_type": "stream",
     "text": [
      "start main at: Tue Nov  5 17:01:31 2019\n",
      "start loop 0 at: Tue Nov  5 17:01:31 2019\n",
      "loop 0 done at: Tue Nov  5 17:01:35 2019\n",
      "start loop 1 at: Tue Nov  5 17:01:35 2019\n",
      "loop 1 done at: Tue Nov  5 17:01:37 2019\n",
      "start loop 2 at: Tue Nov  5 17:01:37 2019\n",
      "loop 2 done at: Tue Nov  5 17:01:42 2019\n",
      "all done at: Tue Nov  5 17:01:42 2019\n"
     ]
    }
   ],
   "source": [
    "from time import sleep,ctime\n",
    "import time\n",
    "def loop0():\n",
    "    print(\"start loop 0 at:\" ,ctime())\n",
    "    sleep(4)\n",
    "    print(\"loop 0 done at:\" ,ctime())\n",
    "    \n",
    "def loop1():\n",
    "    print(\"start loop 1 at:\" ,ctime())\n",
    "    sleep(2)\n",
    "    print(\"loop 1 done at:\" ,ctime())\n",
    "    \n",
    "def loop2():\n",
    "    print(\"start loop 2 at:\" ,ctime())\n",
    "    sleep(5)\n",
    "    print(\"loop 2 done at:\" ,ctime())\n",
    "    \n",
    "def main():\n",
    "    print(\"start main at:\",ctime())\n",
    "    loop0()\n",
    "    loop1()\n",
    "    loop2()\n",
    "    print(\"all done at:\" ,ctime())\n",
    "\n",
    "if __name__==\"__main__\":\n",
    "    main()"
   ]
  },
  {
   "cell_type": "markdown",
   "metadata": {},
   "source": [
    "假设loop0，loop1中的操作不是睡眠而是执行独立计算操作的函数，所有结果汇总成一个最终结果。那么，让他们执行来减少总的执行时间是不是有用呢？这就是后面介绍的多线程编程的前提。"
   ]
  },
  {
   "cell_type": "code",
   "execution_count": null,
   "metadata": {},
   "outputs": [],
   "source": []
  }
 ],
 "metadata": {
  "kernelspec": {
   "display_name": "Python 3",
   "language": "python",
   "name": "python3"
  },
  "language_info": {
   "codemirror_mode": {
    "name": "ipython",
    "version": 3
   },
   "file_extension": ".py",
   "mimetype": "text/x-python",
   "name": "python",
   "nbconvert_exporter": "python",
   "pygments_lexer": "ipython3",
   "version": "3.6.3"
  }
 },
 "nbformat": 4,
 "nbformat_minor": 2
}
