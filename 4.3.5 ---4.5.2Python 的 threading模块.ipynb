{
 "cells": [
  {
   "cell_type": "markdown",
   "metadata": {},
   "source": [
    "# Python 的 threading模块"
   ]
  },
  {
   "cell_type": "markdown",
   "metadata": {},
   "source": [
    "python 提供了多个模块来支持多线程，包括thread、threading和Queue模块等。程序是可以使用thread和threading模块来创建与管理线程。thread模块提\n",
    "供了基本的线程和锁定支持；而threading模块提供了更高级别、功能更全面的线程管理。使用Queue模块，用户可以创建一个队列数据结构，用于在多线程\n",
    "之间进项共享。"
   ]
  },
  {
   "cell_type": "code",
   "execution_count": 68,
   "metadata": {},
   "outputs": [
    {
     "name": "stdout",
     "output_type": "stream",
     "text": [
      "{'upper': 5, 'lower': 3, 'number': 7, 'others': 3}\n"
     ]
    }
   ],
   "source": [
    "def count_case(str):\n",
    "    dict = {}\n",
    "    dict['upper'] = 0\n",
    "    dict['lower'] = 0\n",
    "    dict['number'] = 0\n",
    "    dict['others'] = 0\n",
    "    for c in str:\n",
    "        if c>='A' and c<=\"Z\":\n",
    "            dict['upper'] += 1\n",
    "        elif c>='a' and c<='z':\n",
    "            dict['lower'] += 1\n",
    "        elif c>='0' and c<= '9':\n",
    "            dict['number'] +=1\n",
    "        else :dict['others'] += 1\n",
    "    return dict\n",
    "\n",
    "\n",
    "if __name__=='__main__':\n",
    "    str = 'AaaaBB1234567BB!!!'\n",
    "    print(count_case(str))\n",
    "            "
   ]
  },
  {
   "cell_type": "code",
   "execution_count": 6,
   "metadata": {},
   "outputs": [
    {
     "data": {
      "text/plain": [
       "'\\n#python 3 没有thread 模块，如下代码无用\\nimport thread\\nfrom time import sleep,ctime\\n\\ndef loop():\\n    print(\"start loop 0 at:\",ctime())\\n    sleep(4)\\n    print(\"loop 0 done at:\",ctime())\\n    \\ndef loop1():\\n    print(\"start loop 1 at:\",ctime())\\n    sleep(2)\\n    print(\"loop 1 done at:\",ctime())\\n\\ndef main():\\n    print(\"starting at:\",ctime())\\n    thread.start_new_thread(loop0,())\\n    thread.start_new_thread(loop1,())\\n    sleep(6)\\n    print(\"all done at:\",ctime())\\n    \\nif __name__ ==\"__main__\":\\n    main()\\n'"
      ]
     },
     "execution_count": 6,
     "metadata": {},
     "output_type": "execute_result"
    }
   ],
   "source": [
    "\"\"\"\n",
    "#python 3 没有thread 模块，如下代码无用\n",
    "import thread\n",
    "from time import sleep,ctime\n",
    "\n",
    "def loop():\n",
    "    print(\"start loop 0 at:\",ctime())\n",
    "    sleep(4)\n",
    "    print(\"loop 0 done at:\",ctime())\n",
    "    \n",
    "def loop1():\n",
    "    print(\"start loop 1 at:\",ctime())\n",
    "    sleep(2)\n",
    "    print(\"loop 1 done at:\",ctime())\n",
    "\n",
    "def main():\n",
    "    print(\"starting at:\",ctime())\n",
    "    thread.start_new_thread(loop0,())\n",
    "    thread.start_new_thread(loop1,())\n",
    "    sleep(6)\n",
    "    print(\"all done at:\",ctime())\n",
    "    \n",
    "if __name__ ==\"__main__\":\n",
    "    main()\n",
    "\"\"\""
   ]
  },
  {
   "cell_type": "code",
   "execution_count": 23,
   "metadata": {},
   "outputs": [
    {
     "name": "stdout",
     "output_type": "stream",
     "text": [
      "starting at: Wed Nov  6 14:07:15 2019\n",
      "range(0, 2)\n",
      "start loop 0 at: Wed Nov  6 14:07:15 2019start loop\n",
      " 1 at: Wed Nov  6 14:07:15 2019\n",
      "loop 1 done at: Wed Nov  6 14:07:17 2019\n",
      "loop 0 done at: Wed Nov  6 14:07:19 2019\n",
      "all Done at: Wed Nov  6 14:07:19 2019\n"
     ]
    }
   ],
   "source": [
    "#创建Thread实例，传给它一个函数，在这个例子中只把Thread类实例化，然后将函数（及其参数）传递进去，当线程开始执行时，这个函数也会开始执行。\n",
    "import threading\n",
    "from time import sleep,ctime\n",
    "\n",
    "loops = [4,2] \n",
    "\n",
    "def loop(nloop,nsec):\n",
    "    print(\"start loop\",nloop,\"at:\" ,ctime())\n",
    "    sleep(nsec)\n",
    "    print(\"loop\",nloop,\"done at:\",ctime())\n",
    "    \n",
    "def main():\n",
    "    print(\"starting at:\",ctime())\n",
    "    threads = []\n",
    "    nloops = range(len(loops))\n",
    "    print(nloops)\n",
    "    \n",
    "    for i in nloops:\n",
    "        t = threading.Thread(target=loop,args=(i,loops[i])) #将loop(i，loops[i])加入线程池\n",
    "        #print(loops[i])\n",
    "        threads.append(t)\n",
    "        \n",
    "    for i in nloops:\n",
    "        threads[i].start() #启动线程池里面的所有线程\n",
    "    \n",
    "    for i in nloops:\n",
    "        threads[i].join() #等待所有线程执行结束，join方法表示直至启动的线程终止之前，一直挂起\n",
    "        \n",
    "    print(\"all Done at:\",ctime())\n",
    "    \n",
    "if __name__ ==\"__main__\":\n",
    "    main()"
   ]
  },
  {
   "cell_type": "markdown",
   "metadata": {},
   "source": [
    "    实例化每个Thread对象时，把函数（target）和参数（args）传进去，然后得到返回的Thread实例。实例化Thread（调用Thread()）和调用thread.start_new_thread()的最大区别是新线程不会立即开始执行。这是一个非常有用的同步功能，尤其是当希望线程不要立即执行时。\n",
    "\n",
    "    当所有的线程都分配完成之后，通过调用每个线程的start()方法让他们开始执行，而不是在这之前就执行。相比于管理一组锁而言，这里只需要位每个线程调用join()方法即可。join()方法将等待线程结束，或者在提供了超时时间的情况下，达到超时时间。使用join()方法要比等待锁释放的无线循环更加清晰（这也是这种锁称为自旋锁的原因）。\n",
    "    \n",
    "    对于join()方法而言，其另一个重要方面是其实它根本不需要调用。一旦线程启动，它们就会一直执行，直到给定的函数完成后退出。如果主线程还有其他事情要做，而不是等待这些线程完成，就可以不调用join()，join()方法只有在你需要等待线程完成的时候才是有用的。"
   ]
  },
  {
   "cell_type": "code",
   "execution_count": 24,
   "metadata": {},
   "outputs": [
    {
     "name": "stdout",
     "output_type": "stream",
     "text": [
      "starting at: Wed Nov  6 14:07:53 2019\n",
      "loop\n",
      "loop\n",
      "start loop 0 at: Wed Nov  6 14:07:53 2019\n",
      "start loop 1 at: Wed Nov  6 14:07:53 2019\n",
      "loop 1 done at: Wed Nov  6 14:07:55 2019\n",
      "loop 0 done at: Wed Nov  6 14:07:57 2019\n",
      "all done at : Wed Nov  6 14:07:57 2019\n"
     ]
    }
   ],
   "source": [
    "#创建Thread实例，传给它一个可调用的类实例\n",
    "#创建线程时，与传入函数相似的一个方法是传入一个可调用的类实例，用于线程执行----这种方法更加接近面向对象的多线程编程。\n",
    "#这种可调用的类包含一个执行环境，比起一个函数或者从一组函数中选择而言，有更好的灵活性。\n",
    "\n",
    "import threading\n",
    "from time import sleep,ctime\n",
    "\n",
    "loops = [4,2]\n",
    "class ThreadFunc(object):\n",
    "    def __init__(self,func,args,name=''):\n",
    "        self.name = name\n",
    "        self.func = func\n",
    "        self.args = args\n",
    "        \n",
    "    def __call__(self):\n",
    "        self.func(*self.args)\n",
    "        \n",
    "def loop(nloop,nsec):\n",
    "    print(\"start loop\",nloop,\"at:\",ctime())\n",
    "    sleep(nsec)\n",
    "    print(\"loop\",nloop,\"done at:\",ctime())\n",
    "    \n",
    "def main():\n",
    "    print(\"starting at:\",ctime())\n",
    "    threads = []\n",
    "    nloops = range(len(loops))\n",
    "    \n",
    "    for i in nloops:\n",
    "        t = threading.Thread(target=ThreadFunc(loop,(i,loops[i]),loop.__name__))\n",
    "        threads.append(t)\n",
    "    for i in nloops:\n",
    "        threads[i].start()\n",
    "    for i in nloops:\n",
    "        threads[i].join()\n",
    "        \n",
    "    print(\"all done at :\",ctime())\n",
    "    \n",
    "if __name__ ==\"__main__\":\n",
    "    main()"
   ]
  },
  {
   "cell_type": "markdown",
   "metadata": {},
   "source": [
    "    主要添加了ThreadFunc类，并在实例化Thread对象时同时实例化ThreadFunc。实际上，这里完成了两个实例化。让我们仔细看看ThreadFunc类吧。\n",
    "    \n",
    "    我们希望这个类更加通用，而不是局限于loop()函数，因此添加了一些新的东西，比如让这个类保存了函数的参数、函数自身以及函数名的字符串。而构造函数__init__()用于设定上述这些值。\n",
    "    \n",
    "    当创建新线程时，Thread类的代码将调用ThreadFunc对象，此时会调用__call__()这个特殊方法。由于我们已经有了要用到的参数，这里就不需要再将其传递给Thread()的构造函数了，直接调用即可。"
   ]
  },
  {
   "cell_type": "code",
   "execution_count": 28,
   "metadata": {},
   "outputs": [
    {
     "name": "stdout",
     "output_type": "stream",
     "text": [
      "starting at: Wed Nov  6 15:20:13 2019\n",
      "start loop 0 at: Wed Nov  6 15:20:13 2019\n",
      "start loop 1 at: Wed Nov  6 15:20:13 2019\n",
      "loop 1 done at: Wed Nov  6 15:20:15 2019\n",
      "loop 0 done at: Wed Nov  6 15:20:17 2019\n",
      "all done at : Wed Nov  6 15:20:17 2019\n"
     ]
    }
   ],
   "source": [
    "#派生Thread的实例，并创建子类的实例\n",
    "#要调用Thread()的子类，和上一个创建可调用类的例子相似，当创建线程时使用子类要相对更容易阅读\n",
    "#将Thread子类化，并不是直接对其实例化\n",
    "import threading\n",
    "from time import sleep,ctime\n",
    "\n",
    "loops = (4,2)\n",
    "\n",
    "class MyThread(threading.Thread):\n",
    "    def __init__(self,func,args,name=''):\n",
    "        threading.Thread.__init__(self)\n",
    "        self.name = name\n",
    "        self.func = func\n",
    "        self.args = args\n",
    "        \n",
    "    def run(self):\n",
    "        self.func(*self.args)\n",
    "        \n",
    "def loop(nloop,nsec):\n",
    "    print (\"start loop\",nloop,\"at:\",ctime())\n",
    "    sleep(nsec)\n",
    "    print (\"loop\",nloop,\"done at:\",ctime())\n",
    "\n",
    "def main():\n",
    "    print(\"starting at:\",ctime())\n",
    "    threads = []\n",
    "    nloops = range(len(loops))\n",
    "    \n",
    "    for i in nloops:\n",
    "        t = MyThread(loop,(i,loops[i]),loop.__name__)\n",
    "        threads.append(t)\n",
    "    for i in nloops:\n",
    "        threads[i].start()\n",
    "    for i in nloops:\n",
    "        threads[i].join()\n",
    "    print(\"all done at :\",ctime())  \n",
    "if __name__ ==\"__main__\":\n",
    "    main()"
   ]
  },
  {
   "cell_type": "code",
   "execution_count": 34,
   "metadata": {},
   "outputs": [
    {
     "name": "stdout",
     "output_type": "stream",
     "text": [
      "starting at: Wed Nov  6 16:13:57 2019\n",
      "Starting Thread  0 at: Wed Nov  6 16:13:57 2019\n",
      "Starting Thread  1 at: Wed Nov  6 16:13:57 2019\n",
      "Thread  1 finished at: Wed Nov  6 16:13:59 2019\n",
      "Thread  0 finished at: Wed Nov  6 16:14:01 2019\n",
      "all done at : Wed Nov  6 16:14:01 2019\n"
     ]
    }
   ],
   "source": [
    "#重写MyThread 子类\n",
    "import threading\n",
    "from time import ctime\n",
    "\n",
    "class MyThread(threading.Thread):\n",
    "    def __init__(self,func,args,name=''):\n",
    "        threading.Thread.__init__(self)\n",
    "        self.name = name\n",
    "        self.args = args\n",
    "        self.func = func\n",
    "    def getResult(self):\n",
    "        return self.res\n",
    "    def run (self):\n",
    "        print(\"Starting Thread \",self.name,\"at:\",ctime())\n",
    "        self.res =self.func(*self.args)\n",
    "        print(\"Thread \",self.name ,\"finished at:\",ctime())\n",
    "        \n",
    "def loop(nloop,nsec):\n",
    "    #print (\"start loop\",nloop,\"at:\",ctime())\n",
    "    sleep(nsec)\n",
    "    #print (\"loop\",nloop,\"done at:\",ctime())\n",
    "\n",
    "def main():\n",
    "    print(\"starting at:\",ctime())\n",
    "    threads = []\n",
    "    nloops = range(len(loops))\n",
    "    \n",
    "    for i in nloops:\n",
    "        t = MyThread(loop,(i,loops[i]),i)\n",
    "        threads.append(t)\n",
    "    for i in nloops:\n",
    "        threads[i].start()\n",
    "    for i in nloops:\n",
    "        threads[i].join()\n",
    "    print(\"all done at :\",ctime())  \n",
    "if __name__ ==\"__main__\":\n",
    "    main()"
   ]
  },
  {
   "cell_type": "code",
   "execution_count": null,
   "metadata": {},
   "outputs": [],
   "source": []
  }
 ],
 "metadata": {
  "kernelspec": {
   "display_name": "Python 3",
   "language": "python",
   "name": "python3"
  },
  "language_info": {
   "codemirror_mode": {
    "name": "ipython",
    "version": 3
   },
   "file_extension": ".py",
   "mimetype": "text/x-python",
   "name": "python",
   "nbconvert_exporter": "python",
   "pygments_lexer": "ipython3",
   "version": "3.6.3"
  }
 },
 "nbformat": 4,
 "nbformat_minor": 2
}
