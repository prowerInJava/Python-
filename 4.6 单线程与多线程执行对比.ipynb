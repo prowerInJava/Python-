{
 "cells": [
  {
   "cell_type": "code",
   "execution_count": 7,
   "metadata": {},
   "outputs": [],
   "source": [
    "#重写MyThread 子类\n",
    "import threading\n",
    "from time import ctime,sleep\n",
    "\n",
    "class MyThread(threading.Thread):\n",
    "    def __init__(self,func,args,name=''):\n",
    "        threading.Thread.__init__(self)\n",
    "        self.name = name\n",
    "        self.args = args\n",
    "        self.func = func\n",
    "    def getResult(self):\n",
    "        return self.res\n",
    "    def run (self):\n",
    "        print(\"Starting Thread \",self.name,\"at:\",ctime())\n",
    "        self.res =self.func(*self.args)\n",
    "        print(\"Thread \",self.name ,\"finished at:\",ctime())\n"
   ]
  },
  {
   "cell_type": "code",
   "execution_count": 12,
   "metadata": {},
   "outputs": [
    {
     "name": "stdout",
     "output_type": "stream",
     "text": [
      "**** SINGLE THREAD\n",
      "Starting , fib at: Thu Nov  7 09:08:37 2019\n",
      "233\n",
      "fib  finished at: Thu Nov  7 09:08:39 2019\n",
      "Starting , fac at: Thu Nov  7 09:08:39 2019\n",
      "479001600\n",
      "fac  finished at: Thu Nov  7 09:08:41 2019\n",
      "Starting , sum at: Thu Nov  7 09:08:41 2019\n",
      "78\n",
      "sum  finished at: Thu Nov  7 09:08:42 2019\n",
      "\n",
      "***MULTIPLE THREADS\n",
      "Starting Thread  fib at: Thu Nov  7 09:08:42 2019\n",
      "Starting Thread  fac at: Thu Nov  7 09:08:42 2019\n",
      "Starting Thread  sum at: Thu Nov  7 09:08:42 2019\n",
      "Thread  fac finished at: Thu Nov  7 09:08:43 2019\n",
      "Thread  sum finished at: Thu Nov  7 09:08:43 2019\n",
      "Thread  fib finished at: Thu Nov  7 09:08:44 2019\n",
      "233\n",
      "479001600\n",
      "78\n",
      "All Done\n"
     ]
    }
   ],
   "source": [
    "#裴波那契、阶乘与累加函数单线程实现与多线程实现相比较\n",
    "def fib(x):\n",
    "    sleep(0.005)\n",
    "    if x < 2:return 1\n",
    "    return (fib(x-2)+fib(x-1))\n",
    "\n",
    "def fac(x):\n",
    "    sleep(0.1)\n",
    "    if x < 2:return 1\n",
    "    return (x*fac(x-1))\n",
    "\n",
    "def sum(x):\n",
    "    sleep(0.1)\n",
    "    if x < 2:return 1\n",
    "    return (x+sum(x-1))\n",
    "\n",
    "funcs = [fib,fac,sum]\n",
    "n = 12\n",
    "\n",
    "def main():\n",
    "    nfuncs = range(len(funcs))\n",
    "    \n",
    "    print(\"**** SINGLE THREAD\")\n",
    "    \n",
    "    for i in nfuncs:\n",
    "        print (\"Starting ,\",funcs[i].__name__,\"at:\",ctime())\n",
    "        print (funcs[i](n))\n",
    "        print (funcs[i].__name__,\" finished at:\",ctime())\n",
    "        \n",
    "    print (\"\\n***MULTIPLE THREADS\")\n",
    "    threads = []\n",
    "    for i in nfuncs:\n",
    "        t = MyThread(funcs[i],(n,),funcs[i].__name__)\n",
    "        threads.append(t)\n",
    "    for i in nfuncs:\n",
    "        threads[i].start()\n",
    "    for i in nfuncs:\n",
    "        threads[i].join()\n",
    "        print(threads[i].getResult()) #等待所有线程执行结束，输出结果\n",
    "    \n",
    "    print (\"All Done\")\n",
    "\n",
    "if __name__ == \"__main__\":\n",
    "    main()"
   ]
  },
  {
   "cell_type": "code",
   "execution_count": null,
   "metadata": {},
   "outputs": [],
   "source": []
  }
 ],
 "metadata": {
  "kernelspec": {
   "display_name": "Python 3",
   "language": "python",
   "name": "python3"
  },
  "language_info": {
   "codemirror_mode": {
    "name": "ipython",
    "version": 3
   },
   "file_extension": ".py",
   "mimetype": "text/x-python",
   "name": "python",
   "nbconvert_exporter": "python",
   "pygments_lexer": "ipython3",
   "version": "3.6.3"
  }
 },
 "nbformat": 4,
 "nbformat_minor": 2
}
