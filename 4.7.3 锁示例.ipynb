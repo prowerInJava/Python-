{
 "cells": [
  {
   "cell_type": "code",
   "execution_count": 21,
   "metadata": {},
   "outputs": [
    {
     "name": "stdout",
     "output_type": "stream",
     "text": [
      "Thread-52\n",
      "[Thu Nov  7 15:22:40 2019] Started Thread-52\n",
      "Thread-53,Thread-52\n",
      "[Thu Nov  7 15:22:40 2019] Started Thread-53\n",
      "Thread-53,Thread-54,Thread-52\n",
      "[Thu Nov  7 15:22:40 2019] Started Thread-54\n",
      "Thread-53,Thread-55,Thread-54,Thread-52\n",
      "[Thu Nov  7 15:22:40 2019] Started Thread-55\n",
      "Thread-54,Thread-53,Thread-55,Thread-56,Thread-52\n",
      "[Thu Nov  7 15:22:40 2019] Started Thread-56\n",
      "Thread-54,Thread-53,Thread-57,Thread-55,Thread-56,Thread-52\n",
      "[Thu Nov  7 15:22:40 2019] Started Thread-57\n",
      "[Thu Nov  7 15:22:42 2019] Completed Thread-56 (2 secs)\n",
      "(remaining:Thread-54,Thread-53,Thread-57,Thread-55,Thread-52)\n",
      "[Thu Nov  7 15:22:43 2019] Completed Thread-52 (3 secs)\n",
      "(remaining:Thread-54,Thread-53,Thread-57,Thread-55)\n",
      "[Thu Nov  7 15:22:43 2019] Completed Thread-54 (3 secs)\n",
      "(remaining:Thread-53,Thread-57,Thread-55)\n",
      "[Thu Nov  7 15:22:43 2019] Completed Thread-57 (3 secs)\n",
      "(remaining:Thread-53,Thread-55)\n",
      "[Thu Nov  7 15:22:44 2019] Completed Thread-53 (4 secs)\n",
      "(remaining:Thread-55)\n",
      "[Thu Nov  7 15:22:44 2019] Completed Thread-55 (4 secs)\n",
      "(remaining:None)\n"
     ]
    }
   ],
   "source": [
    "from atexit import register\n",
    "from random import randrange\n",
    "from threading import Thread,currentThread,Lock\n",
    "from time import ctime,sleep\n",
    "\n",
    "class CleanOutputSet(set):\n",
    "    def __str__(self): #对__str__()的实现，可以将默认输出改变为将其所有元素按照逗号分隔的字符串\n",
    "        return \",\".join(x for x in self)\n",
    "lock = Lock() #锁 \n",
    "loops = (randrange(2,5) for x in range(randrange(3,7)))\n",
    "\n",
    "remaining = CleanOutputSet()\n",
    "\n",
    "def loop(nsec):\n",
    "    myname = currentThread().name\n",
    "    lock.acquire()\n",
    "    remaining.add(myname)\n",
    "    #print(remaining)\n",
    "    print (\"[%s] Started %s\"%(ctime(),myname))\n",
    "    lock.release()\n",
    "    sleep(nsec)\n",
    "    lock.acquire()\n",
    "    remaining.remove(myname)\n",
    "    print(\"[%s] Completed %s (%d secs)\"%(ctime(),myname,nsec))\n",
    "    print (\"(remaining:%s)\"%(remaining or \"None\"))\n",
    "    lock.release()\n",
    "    \n",
    "def _main():\n",
    "    for pause in loops:\n",
    "        Thread(target=loop,args=(pause,)).start()\n",
    "        \n",
    "def _atexit():\n",
    "    print ('all done at:',ctime())\n",
    "    \n",
    "_main()\n"
   ]
  },
  {
   "cell_type": "code",
   "execution_count": 24,
   "metadata": {},
   "outputs": [
    {
     "name": "stdout",
     "output_type": "stream",
     "text": [
      "[Thu Nov  7 16:17:28 2019] Started Thread-58\n",
      "[Thu Nov  7 16:17:28 2019] Started Thread-59\n",
      "[Thu Nov  7 16:17:28 2019] Started Thread-60\n",
      "[Thu Nov  7 16:17:30 2019] Completed Thread-60 (2 secs)\n",
      "(remaining:Thread-58,Thread-59)\n",
      "[Thu Nov  7 16:17:32 2019] Completed Thread-58 (4 secs)\n",
      "(remaining:Thread-59)\n",
      "[Thu Nov  7 16:17:32 2019] Completed Thread-59 (4 secs)\n",
      "(remaining:None)\n"
     ]
    }
   ],
   "source": [
    "class CleanOutputSet(set):\n",
    "    def __str__(self): #对__str__()的实现，可以将默认输出改变为将其所有元素按照逗号分隔的字符串\n",
    "        return \",\".join(x for x in self)\n",
    "lock = Lock() #锁 \n",
    "loops = (randrange(2,5) for x in range(randrange(3,7)))\n",
    "\n",
    "remaining = CleanOutputSet()\n",
    "#使用上下文管理,threading 模块的对象Lock、RLock、Condition、Semaphore和BoundedSemaphore都包含有上下文管理，也就是说可以使用with语句\n",
    "def loop(nsec):\n",
    "    myname = currentThread().name\n",
    "    with lock:\n",
    "        remaining.add(myname)\n",
    "        print (\"[%s] Started %s\"%(ctime(),myname))\n",
    "    sleep(nsec)\n",
    "    with lock:\n",
    "        remaining.remove(myname)\n",
    "        print(\"[%s] Completed %s (%d secs)\"%(ctime(),myname,nsec))\n",
    "        print (\"(remaining:%s)\"%(remaining or \"None\"))\n",
    "def _main():\n",
    "    for pause in loops:\n",
    "        Thread(target=loop,args=(pause,)).start()\n",
    "        \n",
    "def _atexit():\n",
    "    print ('all done at:',ctime())        \n",
    "_main()"
   ]
  },
  {
   "cell_type": "code",
   "execution_count": null,
   "metadata": {},
   "outputs": [],
   "source": []
  }
 ],
 "metadata": {
  "kernelspec": {
   "display_name": "Python 3",
   "language": "python",
   "name": "python3"
  },
  "language_info": {
   "codemirror_mode": {
    "name": "ipython",
    "version": 3
   },
   "file_extension": ".py",
   "mimetype": "text/x-python",
   "name": "python",
   "nbconvert_exporter": "python",
   "pygments_lexer": "ipython3",
   "version": "3.6.3"
  }
 },
 "nbformat": 4,
 "nbformat_minor": 2
}
