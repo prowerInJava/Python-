{
 "cells": [
  {
   "cell_type": "code",
   "execution_count": 4,
   "metadata": {},
   "outputs": [
    {
     "name": "stdout",
     "output_type": "stream",
     "text": [
      "Starting Thread  writer at: Fri Nov  8 14:30:14 2019\n",
      "producing object for Q...\n",
      "size now 1\n",
      "Starting Thread  reader at: Fri Nov  8 14:30:14 2019\n",
      "consumed object from Q... size now  0\n",
      "producing object for Q...\n",
      "size now 1\n",
      "producing object for Q...\n",
      "size now 2\n",
      "consumed object from Q... size now  1\n",
      "producing object for Q...\n",
      "size now 2\n",
      "consumed object from Q... size now  1\n",
      "producing object for Q...\n",
      "size now 2\n",
      "consumed object from Q... size now  1\n",
      "Thread  writer finished at: Fri Nov  8 14:30:25 2019\n",
      "consumed object from Q... size now  0\n",
      "Thread  reader finished at: Fri Nov  8 14:30:27 2019\n",
      "all Done\n"
     ]
    }
   ],
   "source": [
    "from random import randint #randint 和 randrange相似，但randint包含上限边界\n",
    "from time import sleep,ctime\n",
    "from queue import Queue\n",
    "import threading\n",
    "\n",
    "class MyThread(threading.Thread):\n",
    "    def __init__(self,func,args,name=''):\n",
    "        threading.Thread.__init__(self)\n",
    "        self.name = name\n",
    "        self.args = args\n",
    "        self.func = func\n",
    "    def getResult(self):\n",
    "        return self.res\n",
    "    def run (self):\n",
    "        print(\"Starting Thread \",self.name,\"at:\",ctime())\n",
    "        self.res =self.func(*self.args)\n",
    "        print(\"Thread \",self.name ,\"finished at:\",ctime())\n",
    "        \n",
    "def writeQ(queue):\n",
    "    print (\"producing object for Q...\")\n",
    "    queue.put(\"xxx\",1) #将字符串xxx写入队列\n",
    "    print (\"size now\",queue.qsize())\n",
    "    \n",
    "def readQ(queue):\n",
    "    val = queue.get(1) #取出队列中的数据，每次取一个\n",
    "    print (\"consumed object from Q... size now \",queue.qsize())\n",
    "    \n",
    "def writer(queue,loops):\n",
    "    for i in range(loops):\n",
    "        writeQ(queue)\n",
    "        sleep(randint(1,3))\n",
    "        \n",
    "def reader(queue,loops):\n",
    "    for i in range (loops):\n",
    "        readQ(queue)\n",
    "        sleep(randint(2,5))\n",
    "\n",
    "funcs = [writer,reader]\n",
    "nfuncs = range(len(funcs))\n",
    "\n",
    "def main():\n",
    "    nloops = randint(2,5)\n",
    "    q = Queue(32) #初始化一个最大长度为32的队列\n",
    "    \n",
    "    threads = []\n",
    "    for i in nfuncs:\n",
    "        t = MyThread(funcs[i],(q,nloops),funcs[i].__name__)\n",
    "        threads.append(t)\n",
    "        \n",
    "    for i in nfuncs:\n",
    "        threads[i].start()\n",
    "        \n",
    "    for i in nfuncs:\n",
    "        threads[i].join()\n",
    "        \n",
    "    print(\"all Done\")\n",
    "    \n",
    "if __name__ ==\"__main__\":\n",
    "    main()"
   ]
  },
  {
   "cell_type": "code",
   "execution_count": null,
   "metadata": {},
   "outputs": [],
   "source": []
  }
 ],
 "metadata": {
  "kernelspec": {
   "display_name": "Python 3",
   "language": "python",
   "name": "python3"
  },
  "language_info": {
   "codemirror_mode": {
    "name": "ipython",
    "version": 3
   },
   "file_extension": ".py",
   "mimetype": "text/x-python",
   "name": "python",
   "nbconvert_exporter": "python",
   "pygments_lexer": "ipython3",
   "version": "3.6.3"
  }
 },
 "nbformat": 4,
 "nbformat_minor": 2
}
