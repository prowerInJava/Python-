{
 "cells": [
  {
   "cell_type": "code",
   "execution_count": 1,
   "metadata": {},
   "outputs": [],
   "source": [
    "from concurrent.futures import ThreadPoolExecutor\n",
    "from re import compile\n",
    "from time import ctime\n",
    "from urllib.request import urlopen as uopen\n",
    "\n",
    "REGEX = compile(b\"#([\\d,]+) in Books\") #匹配在in Books 字符前所有的数字\n",
    "AMZN = \"http://amazon.com/dp/\"\n",
    "ISBNs = {\n",
    "    \"0132269937\" : \"Core Python Programming\",\n",
    "    \"0132356139\" : \"Python Web Development with Django\",\n",
    "    \"0137143419\" : \"Python Fundamentals\",\n",
    "}\n",
    "\n",
    "def getRanking(isbn):\n",
    "    with open ('{0}{1}'.format(AMZN,isbn)) as page:\n",
    "        return str(REGEX.findall(page.read())[0],'utf-8')\n",
    "    \n",
    "def _main():\n",
    "    print (\"AT , \",ctime(),'on Amazon...')\n",
    "    with ThreadPoolExecutor(3) as executor:\n",
    "        for isbn,ranking in zip(ISBNs,executor.map(getRanking,ISBNs)):\n",
    "            print (\"- %r ranked %s \"%(ISBNs[isbn],ranking))\n",
    "    print(\"all Done at:\",ctime())\n",
    "    \n",
    "if __name__==\"__main__\":\n",
    "    _main()"
   ]
  },
  {
   "cell_type": "code",
   "execution_count": null,
   "metadata": {},
   "outputs": [],
   "source": []
  }
 ],
 "metadata": {
  "kernelspec": {
   "display_name": "Python 3",
   "language": "python",
   "name": "python3"
  },
  "language_info": {
   "codemirror_mode": {
    "name": "ipython",
    "version": 3
   },
   "file_extension": ".py",
   "mimetype": "text/x-python",
   "name": "python",
   "nbconvert_exporter": "python",
   "pygments_lexer": "ipython3",
   "version": "3.6.3"
  }
 },
 "nbformat": 4,
 "nbformat_minor": 2
}
