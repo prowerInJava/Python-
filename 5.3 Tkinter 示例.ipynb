{
 "cells": [
  {
   "cell_type": "code",
   "execution_count": 1,
   "metadata": {},
   "outputs": [],
   "source": [
    "import tkinter\n",
    "top = tkinter.Tk()\n",
    "label = tkinter.Label(top,text = \"HelloWorld\")\n",
    "label.pack()#在Packer没有收到其他指示时，所有控件都是垂直排列的（自上而下依次排列）。如果想要水平布局则需要创建一个新的Frame对象来添加按钮\n",
    "quit  = tkinter.Button(top,text = \"quit\",command=top.quit,bg='red',fg='white')\n",
    "quit.pack(fill=tkinter.X,expand=1)#fill X表示水平参数， expand=1代表填充占据水平空间\n",
    "tkinter.mainloop()"
   ]
  },
  {
   "cell_type": "code",
   "execution_count": 2,
   "metadata": {},
   "outputs": [],
   "source": [
    "#Label,Button和Scale控件\n",
    "from tkinter import *\n",
    "\n",
    "def resize(ev = None):\n",
    "    label.config(font=\"Helvetica -%d bold\" % scale.get()) #调整label控件中的字体\n",
    "    \n",
    "top = Tk()\n",
    "top.geometry(\"250x150\")\n",
    "label = Label(top,text=\"Hello World!\",font = \"Helvetica -12 bold\")\n",
    "label.pack(fill=Y,expand=1)\n",
    "    \n",
    "scale = Scale(top,from_=10,to=40,orient=HORIZONTAL,command=resize) #滑块移动激活resize方法\n",
    "scale.pack(fill=X,expand=1)\n",
    "    \n",
    "quit = Button(top,text=\"QUIT\",command=top.quit,fg=\"white\",bg=\"red\")\n",
    "quit.pack()\n",
    "    \n",
    "mainloop()"
   ]
  },
  {
   "cell_type": "code",
   "execution_count": null,
   "metadata": {},
   "outputs": [],
   "source": []
  }
 ],
 "metadata": {
  "kernelspec": {
   "display_name": "Python 3",
   "language": "python",
   "name": "python3"
  },
  "language_info": {
   "codemirror_mode": {
    "name": "ipython",
    "version": 3
   },
   "file_extension": ".py",
   "mimetype": "text/x-python",
   "name": "python",
   "nbconvert_exporter": "python",
   "pygments_lexer": "ipython3",
   "version": "3.6.3"
  }
 },
 "nbformat": 4,
 "nbformat_minor": 2
}
