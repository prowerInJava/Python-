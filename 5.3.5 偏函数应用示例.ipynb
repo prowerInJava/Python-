{
 "cells": [
  {
   "cell_type": "code",
   "execution_count": 5,
   "metadata": {},
   "outputs": [],
   "source": [
    "from functools import partial as pto\n",
    "from tkinter import Tk,Button,X\n",
    "from tkinter.messagebox import showerror,showwarning,showinfo\n",
    "WARN = 'warn'\n",
    "CRIT = 'crit'\n",
    "REGU = 'regu'\n",
    "\n",
    "SIGNS = {\n",
    "    'do not enter':CRIT,\n",
    "    \"railroad crossing\":WARN,\n",
    "    \"wrong way\":CRIT,\n",
    "    \"55\\n speed limit\":REGU,\n",
    "    \"merging tarffic\":WARN,\n",
    "    \"one way\":REGU,\n",
    "}\n",
    "\n",
    "#用作按钮按下的回调函数\n",
    "critCB = lambda:showerror(\"Error\",\"Error Button Pressed!\")\n",
    "warnCB = lambda:showwarning(\"Warning\",\"Warning Button Pressed!\")\n",
    "infoCB = lambda:showinfo(\"Info\",\"Info Button Pressed! \")\n",
    "\n",
    "top = Tk()\n",
    "top.title(\"Road Signs\")\n",
    "\n",
    "#展示了偏函数的魔法，我们使用了两阶偏函数，第一阶模板化Button类和根窗口top。这意味着每次调用MyButton时，top作为第一个参数。\n",
    "MyButton = pto(Button,top)\n",
    "#第二阶偏函数会使用我们的第一阶偏函数，并对其进行模板化。我们会为每种标志类似创建单独的按钮类型。当用户创建一个严重类型的按钮CritButton时\n",
    "#比如通过调用CritButton(),它就会调用包含适当的按钮回调函数、前背景色的MyButton\n",
    "CritButton = pto(MyButton,command=critCB,bg='white',fg=\"red\")\n",
    "WarnButton = pto(MyButton,command=warnCB,bg=\"goldenrod1\")\n",
    "ReguButton = pto(MyButton,command=infoCB,bg = \"white\")\n",
    "\n",
    "for eachSign in SIGNS:\n",
    "    signType = SIGNS[eachSign]\n",
    "    cmd = \"%sButton(text=%r%s).pack(fill=X,expand=True)\"%(signType.title(),eachSign,\".upper()\" if signType == CRIT else '.title()')\n",
    "    #\".upper()\" if signType == CRIT else '.title()' 是三元/条件操作符\n",
    "    print(cmd)\n",
    "    eval (cmd)#实例化上述的每个按钮\n",
    "    \n",
    "top.mainloop()"
   ]
  },
  {
   "cell_type": "code",
   "execution_count": null,
   "metadata": {},
   "outputs": [],
   "source": []
  }
 ],
 "metadata": {
  "kernelspec": {
   "display_name": "Python 3",
   "language": "python",
   "name": "python3"
  },
  "language_info": {
   "codemirror_mode": {
    "name": "ipython",
    "version": 3
   },
   "file_extension": ".py",
   "mimetype": "text/x-python",
   "name": "python",
   "nbconvert_exporter": "python",
   "pygments_lexer": "ipython3",
   "version": "3.6.3"
  }
 },
 "nbformat": 4,
 "nbformat_minor": 2
}
