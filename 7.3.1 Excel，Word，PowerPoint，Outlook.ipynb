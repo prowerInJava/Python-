{
 "cells": [
  {
   "cell_type": "code",
   "execution_count": 6,
   "metadata": {},
   "outputs": [],
   "source": [
    "from tkinter import Tk\n",
    "from time import sleep\n",
    "import os\n",
    "from tkinter.messagebox import showwarning\n",
    "import win32com.client as win32\n",
    "\n",
    "warn = lambda app:showwarning(app,\"Exit?\")\n",
    "RANGE = range(3,8)"
   ]
  },
  {
   "cell_type": "code",
   "execution_count": 9,
   "metadata": {},
   "outputs": [],
   "source": [
    "def excel():\n",
    "    app = 'Excel'\n",
    "    xl = win32.gencache.EnsureDispatch('%s.Application'% app)\n",
    "    ss = xl.Workbooks.Add() #添加一个工作簿 \n",
    "    sh = ss.ActiveSheet     #获取活跃的sheet\n",
    "    xl.Visible = True #可以在桌面可见win32 的操作\n",
    "    sleep(1)\n",
    "    \n",
    "    sh.Cells(1,1).Value = \"Python-to-%s Demo\"%app #在sheet 第1行第一列格子插入文字\n",
    "    sleep(1)\n",
    "    for i in RANGE:\n",
    "        sh.Cells(i,1).Value = 'Line %d'%i\n",
    "        sleep(1)\n",
    "    sh.Cells(i+2,1).Value = \"Th-th-th-that's all folks!\"\n",
    "    warn(app)\n",
    "    ss.SaveAs('D:\\\\a.xlsx') #保存excel\n",
    "    ss.Close(False)\n",
    "    xl.Application.Quit()\n",
    "    \n",
    "if __name__ == '__main__':\n",
    "    Tk().withdraw()#不让tk顶级窗口出现\n",
    "    excel()"
   ]
  },
  {
   "cell_type": "code",
   "execution_count": 11,
   "metadata": {},
   "outputs": [
    {
     "name": "stdout",
     "output_type": "stream",
     "text": [
      "C:\\Users\\jacky_yin\\Python 核心编程\n"
     ]
    }
   ],
   "source": [
    "def word():\n",
    "    app = 'Word'\n",
    "    word = win32.gencache.EnsureDispatch('%s.Application'% app)\n",
    "    doc = word.Documents.Add()\n",
    "    word.Visible = True\n",
    "    sleep(1)\n",
    "    print(os.getcwd())\n",
    "    rng = doc.Range(0,0)\n",
    "    rng.InsertAfter('Python-to-%s Test\\r\\n\\r\\n'%app)\n",
    "    sleep(1)\n",
    "    for i in RANGE:\n",
    "        rng.InsertAfter('Line %s\\r\\n\\r\\n'%i)\n",
    "        sleep(1)\n",
    "    rng.InsertAfter(\"\\r\\nTh-th-th-th-that's all folks!\\r\\n\")\n",
    "    \n",
    "    warn(app)\n",
    "    doc.SaveAs(\"D:\\\\a.doc\")\n",
    "    doc.Close(False)\n",
    "    word.Application.Quit()\n",
    "    \n",
    "if __name__=='__main__':\n",
    "    Tk().withdraw()\n",
    "    word()"
   ]
  },
  {
   "cell_type": "code",
   "execution_count": 19,
   "metadata": {},
   "outputs": [
    {
     "ename": "TypeError",
     "evalue": "'Shapes' object does not support indexing",
     "output_type": "error",
     "traceback": [
      "\u001b[1;31m---------------------------------------------------------------------------\u001b[0m",
      "\u001b[1;31mTypeError\u001b[0m                                 Traceback (most recent call last)",
      "\u001b[1;32m<ipython-input-19-c6112c70b76d>\u001b[0m in \u001b[0;36m<module>\u001b[1;34m\u001b[0m\n\u001b[0;32m     22\u001b[0m \u001b[1;32mif\u001b[0m \u001b[0m__name__\u001b[0m\u001b[1;33m==\u001b[0m\u001b[1;34m'__main__'\u001b[0m\u001b[1;33m:\u001b[0m\u001b[1;33m\u001b[0m\u001b[0m\n\u001b[0;32m     23\u001b[0m     \u001b[0mTk\u001b[0m\u001b[1;33m(\u001b[0m\u001b[1;33m)\u001b[0m\u001b[1;33m.\u001b[0m\u001b[0mwithdraw\u001b[0m\u001b[1;33m(\u001b[0m\u001b[1;33m)\u001b[0m\u001b[1;33m\u001b[0m\u001b[0m\n\u001b[1;32m---> 24\u001b[1;33m     \u001b[0mppoint\u001b[0m\u001b[1;33m(\u001b[0m\u001b[1;33m)\u001b[0m\u001b[1;33m\u001b[0m\u001b[0m\n\u001b[0m",
      "\u001b[1;32m<ipython-input-19-c6112c70b76d>\u001b[0m in \u001b[0;36mppoint\u001b[1;34m()\u001b[0m\n\u001b[0;32m      7\u001b[0m     \u001b[0ms1\u001b[0m \u001b[1;33m=\u001b[0m \u001b[0mpres\u001b[0m\u001b[1;33m.\u001b[0m\u001b[0mSlides\u001b[0m\u001b[1;33m.\u001b[0m\u001b[0mAdd\u001b[0m\u001b[1;33m(\u001b[0m\u001b[1;36m1\u001b[0m\u001b[1;33m,\u001b[0m\u001b[0mwin32\u001b[0m\u001b[1;33m.\u001b[0m\u001b[0mconstants\u001b[0m\u001b[1;33m.\u001b[0m\u001b[0mppLayoutText\u001b[0m\u001b[1;33m)\u001b[0m\u001b[1;33m\u001b[0m\u001b[0m\n\u001b[0;32m      8\u001b[0m     \u001b[0msleep\u001b[0m\u001b[1;33m(\u001b[0m\u001b[1;36m1\u001b[0m\u001b[1;33m)\u001b[0m\u001b[1;33m\u001b[0m\u001b[0m\n\u001b[1;32m----> 9\u001b[1;33m     \u001b[0msla\u001b[0m \u001b[1;33m=\u001b[0m \u001b[0ms1\u001b[0m\u001b[1;33m.\u001b[0m\u001b[0mShapes\u001b[0m\u001b[1;33m[\u001b[0m\u001b[1;36m0\u001b[0m\u001b[1;33m]\u001b[0m\u001b[1;33m.\u001b[0m\u001b[0mTextFrame\u001b[0m\u001b[1;33m.\u001b[0m\u001b[0mTextRange\u001b[0m\u001b[1;33m\u001b[0m\u001b[0m\n\u001b[0m\u001b[0;32m     10\u001b[0m     \u001b[0msla\u001b[0m\u001b[1;33m.\u001b[0m\u001b[0mText\u001b[0m \u001b[1;33m=\u001b[0m \u001b[1;34m'Python-to-%s Demo'\u001b[0m\u001b[1;33m%\u001b[0m\u001b[0mapp\u001b[0m\u001b[1;33m\u001b[0m\u001b[0m\n\u001b[0;32m     11\u001b[0m     \u001b[0msleep\u001b[0m\u001b[1;33m(\u001b[0m\u001b[1;36m1\u001b[0m\u001b[1;33m)\u001b[0m\u001b[1;33m\u001b[0m\u001b[0m\n",
      "\u001b[1;31mTypeError\u001b[0m: 'Shapes' object does not support indexing"
     ]
    }
   ],
   "source": [
    "def ppoint():\n",
    "    app = \"PowerPoint\"\n",
    "    ppoint = win32.gencache.EnsureDispatch(\"%s.Application\"%app)\n",
    "    pres = ppoint.Presentations.Add()\n",
    "    ppoint.Visible = True\n",
    "    \n",
    "    sl = pres.Slides.Add(1,win32.constants.ppLayoutText)\n",
    "    sleep(1)\n",
    "    sla = sl.Shapes[0].TextFrame.TextRange\n",
    "    sla.Text = 'Python-to-%s Demo'%app\n",
    "    sleep(1)\n",
    "    slb = sl.Shapes[1].TextFrame.TextRange\n",
    "    for i in RANGE:\n",
    "        slb.InsertAfter(\"Line %d\\r\\n\"%i)\n",
    "        sleep(1)\n",
    "    slb.InsertAfter(\"\\rnTh-th-th-that's all folks!\")\n",
    "    \n",
    "    warn(app)\n",
    "    pres.Close()\n",
    "    ppoint.Quit()\n",
    "    \n",
    "if __name__=='__main__':\n",
    "    Tk().withdraw()\n",
    "    ppoint()"
   ]
  },
  {
   "cell_type": "code",
   "execution_count": 22,
   "metadata": {},
   "outputs": [
    {
     "ename": "com_error",
     "evalue": "(-2147467260, '已中止操作', None, None)",
     "output_type": "error",
     "traceback": [
      "\u001b[1;31m---------------------------------------------------------------------------\u001b[0m",
      "\u001b[1;31mcom_error\u001b[0m                                 Traceback (most recent call last)",
      "\u001b[1;32m<ipython-input-22-53445e82d0ff>\u001b[0m in \u001b[0;36m<module>\u001b[1;34m\u001b[0m\n\u001b[0;32m     21\u001b[0m \u001b[1;33m\u001b[0m\u001b[0m\n\u001b[0;32m     22\u001b[0m \u001b[1;32mif\u001b[0m \u001b[0m__name__\u001b[0m\u001b[1;33m==\u001b[0m\u001b[1;34m\"__main__\"\u001b[0m\u001b[1;33m:\u001b[0m\u001b[1;33m\u001b[0m\u001b[0m\n\u001b[1;32m---> 23\u001b[1;33m     \u001b[0moutlook\u001b[0m\u001b[1;33m(\u001b[0m\u001b[1;33m)\u001b[0m\u001b[1;33m\u001b[0m\u001b[0m\n\u001b[0m",
      "\u001b[1;32m<ipython-input-22-53445e82d0ff>\u001b[0m in \u001b[0;36moutlook\u001b[1;34m()\u001b[0m\n\u001b[0;32m      4\u001b[0m \u001b[1;33m\u001b[0m\u001b[0m\n\u001b[0;32m      5\u001b[0m     \u001b[0mmail\u001b[0m \u001b[1;33m=\u001b[0m \u001b[0molook\u001b[0m\u001b[1;33m.\u001b[0m\u001b[0mCreateItem\u001b[0m\u001b[1;33m(\u001b[0m\u001b[0mwin32\u001b[0m\u001b[1;33m.\u001b[0m\u001b[0mconstants\u001b[0m\u001b[1;33m.\u001b[0m\u001b[0molMailItem\u001b[0m\u001b[1;33m)\u001b[0m\u001b[1;33m\u001b[0m\u001b[0m\n\u001b[1;32m----> 6\u001b[1;33m     \u001b[0mrecip\u001b[0m \u001b[1;33m=\u001b[0m \u001b[0mmail\u001b[0m\u001b[1;33m.\u001b[0m\u001b[0mRecipients\u001b[0m\u001b[1;33m.\u001b[0m\u001b[0mAdd\u001b[0m\u001b[1;33m(\u001b[0m\u001b[1;34m'Jacky_Yin@intra.pegatroncorp.com'\u001b[0m\u001b[1;33m)\u001b[0m\u001b[1;33m\u001b[0m\u001b[0m\n\u001b[0m\u001b[0;32m      7\u001b[0m     \u001b[0msubj\u001b[0m \u001b[1;33m=\u001b[0m \u001b[0mmail\u001b[0m\u001b[1;33m.\u001b[0m\u001b[0mSubject\u001b[0m \u001b[1;33m=\u001b[0m \u001b[1;34m\"Python-to-%s Demo\"\u001b[0m \u001b[1;33m%\u001b[0m\u001b[0mapp\u001b[0m\u001b[1;33m\u001b[0m\u001b[0m\n\u001b[0;32m      8\u001b[0m     \u001b[0mbody\u001b[0m \u001b[1;33m=\u001b[0m \u001b[1;33m[\u001b[0m\u001b[1;34m\"Line %d \"\u001b[0m\u001b[1;33m%\u001b[0m\u001b[0mi\u001b[0m \u001b[1;32mfor\u001b[0m \u001b[0mi\u001b[0m \u001b[1;32min\u001b[0m \u001b[0mRANGE\u001b[0m\u001b[1;33m]\u001b[0m\u001b[1;33m\u001b[0m\u001b[0m\n",
      "\u001b[1;32mc:\\program files\\python36\\lib\\site-packages\\win32com\\client\\__init__.py\u001b[0m in \u001b[0;36m__getattr__\u001b[1;34m(self, attr)\u001b[0m\n\u001b[0;32m    472\u001b[0m                 \u001b[1;32mif\u001b[0m \u001b[0margs\u001b[0m \u001b[1;32mis\u001b[0m \u001b[1;32mNone\u001b[0m\u001b[1;33m:\u001b[0m\u001b[1;33m\u001b[0m\u001b[0m\n\u001b[0;32m    473\u001b[0m                         \u001b[1;32mraise\u001b[0m \u001b[0mAttributeError\u001b[0m\u001b[1;33m(\u001b[0m\u001b[1;34m\"'%s' object has no attribute '%s'\"\u001b[0m \u001b[1;33m%\u001b[0m \u001b[1;33m(\u001b[0m\u001b[0mrepr\u001b[0m\u001b[1;33m(\u001b[0m\u001b[0mself\u001b[0m\u001b[1;33m)\u001b[0m\u001b[1;33m,\u001b[0m \u001b[0mattr\u001b[0m\u001b[1;33m)\u001b[0m\u001b[1;33m)\u001b[0m\u001b[1;33m\u001b[0m\u001b[0m\n\u001b[1;32m--> 474\u001b[1;33m                 \u001b[1;32mreturn\u001b[0m \u001b[0mself\u001b[0m\u001b[1;33m.\u001b[0m\u001b[0m_ApplyTypes_\u001b[0m\u001b[1;33m(\u001b[0m\u001b[1;33m*\u001b[0m\u001b[0margs\u001b[0m\u001b[1;33m)\u001b[0m\u001b[1;33m\u001b[0m\u001b[0m\n\u001b[0m\u001b[0;32m    475\u001b[0m \u001b[1;33m\u001b[0m\u001b[0m\n\u001b[0;32m    476\u001b[0m         \u001b[1;32mdef\u001b[0m \u001b[0m__setattr__\u001b[0m\u001b[1;33m(\u001b[0m\u001b[0mself\u001b[0m\u001b[1;33m,\u001b[0m \u001b[0mattr\u001b[0m\u001b[1;33m,\u001b[0m \u001b[0mvalue\u001b[0m\u001b[1;33m)\u001b[0m\u001b[1;33m:\u001b[0m\u001b[1;33m\u001b[0m\u001b[0m\n",
      "\u001b[1;32mc:\\program files\\python36\\lib\\site-packages\\win32com\\client\\__init__.py\u001b[0m in \u001b[0;36m_ApplyTypes_\u001b[1;34m(self, dispid, wFlags, retType, argTypes, user, resultCLSID, *args)\u001b[0m\n\u001b[0;32m    465\u001b[0m         \u001b[1;32mdef\u001b[0m \u001b[0m_ApplyTypes_\u001b[0m\u001b[1;33m(\u001b[0m\u001b[0mself\u001b[0m\u001b[1;33m,\u001b[0m \u001b[0mdispid\u001b[0m\u001b[1;33m,\u001b[0m \u001b[0mwFlags\u001b[0m\u001b[1;33m,\u001b[0m \u001b[0mretType\u001b[0m\u001b[1;33m,\u001b[0m \u001b[0margTypes\u001b[0m\u001b[1;33m,\u001b[0m \u001b[0muser\u001b[0m\u001b[1;33m,\u001b[0m \u001b[0mresultCLSID\u001b[0m\u001b[1;33m,\u001b[0m \u001b[1;33m*\u001b[0m\u001b[0margs\u001b[0m\u001b[1;33m)\u001b[0m\u001b[1;33m:\u001b[0m\u001b[1;33m\u001b[0m\u001b[0m\n\u001b[0;32m    466\u001b[0m \t\treturn self._get_good_object_(\n\u001b[1;32m--> 467\u001b[1;33m                         \u001b[0mself\u001b[0m\u001b[1;33m.\u001b[0m\u001b[0m_oleobj_\u001b[0m\u001b[1;33m.\u001b[0m\u001b[0mInvokeTypes\u001b[0m\u001b[1;33m(\u001b[0m\u001b[0mdispid\u001b[0m\u001b[1;33m,\u001b[0m \u001b[1;36m0\u001b[0m\u001b[1;33m,\u001b[0m \u001b[0mwFlags\u001b[0m\u001b[1;33m,\u001b[0m \u001b[0mretType\u001b[0m\u001b[1;33m,\u001b[0m \u001b[0margTypes\u001b[0m\u001b[1;33m,\u001b[0m \u001b[1;33m*\u001b[0m\u001b[0margs\u001b[0m\u001b[1;33m)\u001b[0m\u001b[1;33m,\u001b[0m\u001b[1;33m\u001b[0m\u001b[0m\n\u001b[0m\u001b[0;32m    468\u001b[0m \t\t\tuser, resultCLSID)\n\u001b[0;32m    469\u001b[0m \u001b[1;33m\u001b[0m\u001b[0m\n",
      "\u001b[1;31mcom_error\u001b[0m: (-2147467260, '已中止操作', None, None)"
     ]
    }
   ],
   "source": [
    "def outlook():\n",
    "    app = \"Outlook\"\n",
    "    olook = win32.gencache.EnsureDispatch(\"%s.Application\"%app)\n",
    "    \n",
    "    mail = olook.CreateItem(win32.constants.olMailItem)\n",
    "    recip = mail.Recipients.Add('Jacky_Yin@intra.pegatroncorp.com')\n",
    "    subj = mail.Subject = \"Python-to-%s Demo\" %app\n",
    "    body = [\"Line %d \"%i for i in RANGE]\n",
    "    body.insert(0,'%s\\r\\n'%subj)\n",
    "    body.append(\"\\r\\nTH-th-th-that's all folks\")\n",
    "    mail.Body = '\\r\\n'.join(body)\n",
    "    mail.Send()\n",
    "    \n",
    "    ns = olook.GetNamespace(\"MAPI\")\n",
    "    obox = ns.GetDefaultFolder(win32.constants.olFolderOutbox)\n",
    "    obox.Dosplay()\n",
    "    obox.Items.Item(1).Display()\n",
    "    \n",
    "    warn(app)\n",
    "    olook.Quit()\n",
    "    \n",
    "if __name__==\"__main__\":\n",
    "    outlook()"
   ]
  },
  {
   "cell_type": "code",
   "execution_count": null,
   "metadata": {},
   "outputs": [],
   "source": []
  }
 ],
 "metadata": {
  "kernelspec": {
   "display_name": "Python 3",
   "language": "python",
   "name": "python3"
  },
  "language_info": {
   "codemirror_mode": {
    "name": "ipython",
    "version": 3
   },
   "file_extension": ".py",
   "mimetype": "text/x-python",
   "name": "python",
   "nbconvert_exporter": "python",
   "pygments_lexer": "ipython3",
   "version": "3.6.3"
  }
 },
 "nbformat": 4,
 "nbformat_minor": 2
}
