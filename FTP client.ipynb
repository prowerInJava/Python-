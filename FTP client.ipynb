{
 "cells": [
  {
   "cell_type": "code",
   "execution_count": null,
   "metadata": {},
   "outputs": [],
   "source": [
    "import ftplib\n",
    "import os\n",
    "import socket\n",
    "\n",
    "HOST = 'ftp.mozilla.org'\n",
    "DIRN = 'pub/mozilla.org/webtools'\n",
    "FILE = 'bugzilla-LATSET.tar.gz'\n",
    "\n",
    "def main():\n",
    "    try:\n",
    "        f = ftplib.FTP(HOST) #创建一个FTP对象\n",
    "    except (socket.error,socket.gaierror) as e:\n",
    "        print (\"Error can not reach '%s'\" %HOST)\n",
    "        return\n",
    "    print(\"***Connected to host %s\"%HOST)\n",
    "    \n",
    "    try:\n",
    "        f.login() #尝试匿名连接FTP服务器\n",
    "    except ftplib.error_perm:\n",
    "        print(\"ERROR: connot login anonymously\")\n",
    "        f.quit()\n",
    "        return\n",
    "    print('***Logged in as anonymous')\n",
    "    \n",
    "    try:\n",
    "        f.cwd(DIRN)\n",
    "    except ftplib.error_perm:\n",
    "        print('Error cannot CD to %s'%DIRN)\n",
    "        f.quit()\n",
    "        return\n",
    "    print(\"***Changed to %s folder\"%DIRN)\n",
    "    \n",
    "    try:\n",
    "        f.retrbinary('RETR %s'%FILE,open(FILE,'wb').write)\n",
    "    except ftplib.error_perm:\n",
    "        print(\"Error cannot read file  %s\"%FILE)\n",
    "        os.unlink(FILE)\n",
    "    else:\n",
    "        print(\"*** DOWNLOAD***\")\n",
    "    f.quit()\n",
    "if __name__=='__main__':\n",
    "    main()"
   ]
  }
 ],
 "metadata": {
  "kernelspec": {
   "display_name": "Python 3",
   "language": "python",
   "name": "python3"
  },
  "language_info": {
   "codemirror_mode": {
    "name": "ipython",
    "version": 3
   },
   "file_extension": ".py",
   "mimetype": "text/x-python",
   "name": "python",
   "nbconvert_exporter": "python",
   "pygments_lexer": "ipython3",
   "version": "3.6.3"
  }
 },
 "nbformat": 4,
 "nbformat_minor": 2
}
