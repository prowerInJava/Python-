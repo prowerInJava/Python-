{
 "cells": [
  {
   "cell_type": "code",
   "execution_count": null,
   "metadata": {},
   "outputs": [
    {
     "name": "stdout",
     "output_type": "stream",
     "text": [
      "正在等待连接。。。\n"
     ]
    }
   ],
   "source": [
    "#创建TCP服务器端\n",
    "from socket import *\n",
    "from time import ctime\n",
    "\n",
    "HOST = \"\"#空白的表示可以使用任何可用地址\n",
    "PORT = 21567#端口号是空闲的端口号\n",
    "BUFSIZ = 1024#设置缓冲区大小为1KB\n",
    "ADDR = (HOST,PORT)\n",
    "\n",
    "tcpSerSock = socket(AF_INET,SOCK_STREAM)#分配了一个tcp套接字\n",
    "tcpSerSock.bind(ADDR)\n",
    "tcpSerSock.listen(5)#设置连接被转接或拒绝之前，传入连接请求的最大数\n",
    "\n",
    "while True:\n",
    "    print(\"正在等待连接。。。\")\n",
    "    tcpCliSock,addr = tcpSerSock.accept()\n",
    "    print(\"...已经连接来自:\",addr)\n",
    "    while True:\n",
    "        data = tcpCliSock.recv(BUFSIZ)\n",
    "        #print(data)\n",
    "        if not data:\n",
    "            break\n",
    "        tcpCliSock.send(data*3)\n",
    "        print(ctime(),data.decode(\"UTF8\"))\n",
    "    tcpCliSock.close()\n",
    "tcpSerSock.close()"
   ]
  },
  {
   "cell_type": "code",
   "execution_count": null,
   "metadata": {},
   "outputs": [],
   "source": [
    "#创建TCP客户端\n",
    "from socket import *\n",
    "HOST = 'localhost'\n",
    "PORT = 21567\n",
    "BUFSIZ = 1024\n",
    "ADDR = (HOST,PORT)\n",
    "\n",
    "tcpCliSock = socket(AF_INET,SOCK_STREAM)\n",
    "tcpCliSock.connect(ADDR)\n",
    "\n",
    "while True:\n",
    "    data =input(\"> \")\n",
    "    if not data:\n",
    "        break\n",
    "    tcpCliSock.send(data.encode(\"utf8\"))\n",
    "    data = tcpCliSock.recv(BUFSIZ)\n",
    "    if not data:\n",
    "        break\n",
    "    print(data.decode(\"utf-8\"))\n",
    "tcpCliSock.close()"
   ]
  },
  {
   "cell_type": "code",
   "execution_count": null,
   "metadata": {},
   "outputs": [
    {
     "name": "stdout",
     "output_type": "stream",
     "text": [
      "Waiting for message...\n"
     ]
    }
   ],
   "source": [
    "#创建UDP服务器端\n",
    "from socket import *\n",
    "from time import ctime\n",
    "\n",
    "HOST = \"\"\n",
    "PORT = 21567\n",
    "BUFSIZ = 1204\n",
    "ADDR = (HOST,PORT)\n",
    "\n",
    "udpSerSock = socket(AF_INET,SOCK_DGRAM)\n",
    "udpSerSock.bind(ADDR)\n",
    "while True:\n",
    "    print(\"Waiting for message...\")\n",
    "    data,addr = udpSerSock.recvfrom(BUFSIZ)\n",
    "    udpSerSock.sendto(data,addr)\n",
    "    print(ctime(),data.decode('utf8'))\n",
    "udpSerSock.close()\n",
    "    "
   ]
  },
  {
   "cell_type": "code",
   "execution_count": null,
   "metadata": {},
   "outputs": [],
   "source": [
    "#创建UDP客户端\n",
    "from socket import *\n",
    "\n",
    "HOST = 'localhost'\n",
    "PORT = 21567\n",
    "BUFSIZ = 1204\n",
    "ADDR = (HOST,PORT)\n",
    "\n",
    "udpCliSock = socket(AF_INET,SOCK_DGRAM)\n",
    "\n",
    "while True:\n",
    "    data = input(\"> \")\n",
    "    if not data:\n",
    "        break\n",
    "    udpCliSock.sendto(data.encode(\"utf8\"),ADDR)\n",
    "    data,ADDR = udpCliSock.recvfrom(BUFSIZ)\n",
    "    if not data:\n",
    "        break\n",
    "    print (data.decode('utf8'))\n",
    "updCliSock.close()"
   ]
  }
 ],
 "metadata": {
  "kernelspec": {
   "display_name": "Python 3",
   "language": "python",
   "name": "python3"
  },
  "language_info": {
   "codemirror_mode": {
    "name": "ipython",
    "version": 3
   },
   "file_extension": ".py",
   "mimetype": "text/x-python",
   "name": "python",
   "nbconvert_exporter": "python",
   "pygments_lexer": "ipython3",
   "version": "3.6.3"
  }
 },
 "nbformat": 4,
 "nbformat_minor": 2
}
