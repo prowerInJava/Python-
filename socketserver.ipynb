{
 "cells": [
  {
   "cell_type": "code",
   "execution_count": null,
   "metadata": {},
   "outputs": [
    {
     "name": "stdout",
     "output_type": "stream",
     "text": [
      "waiting for connection ...\n"
     ]
    }
   ],
   "source": [
    "#创建SocketServer TCP服务器\n",
    "from socketserver import (TCPServer as TCP,\n",
    "                          StreamRequestHandler as SRH)\n",
    "from time import ctime\n",
    "\n",
    "HOST = ''\n",
    "PORT = 21565\n",
    "ADDR = (HOST,PORT)\n",
    "\n",
    "class MyRequestHandler(SRH): #我们得到了请求处理程序MyRequestHandler,作为SocketServer中StreamRequestHandler的子类\n",
    "    def handle(self):       #重写handle方法，该方法在基类中默认是没有任何行为的\n",
    "        print(\"......connected from :\",self.client_address)\n",
    "        #print(\"data: \",self.rfile.readline().decode(\"utf8\"))\n",
    "        self.wfile.write(self.rfile.readline())\n",
    "        print(ctime())\n",
    "        \n",
    "tcpServ = TCP(ADDR,MyRequestHandler)\n",
    "print (\"waiting for connection ...\")\n",
    "tcpServ.serve_forever()"
   ]
  },
  {
   "cell_type": "code",
   "execution_count": null,
   "metadata": {},
   "outputs": [],
   "source": [
    "#创建socketserver TCP客户端\n",
    "from socket import *\n",
    "\n",
    "HOST = 'localhost'\n",
    "PORT = 21565\n",
    "BUFSIZ = 1024\n",
    "ADDR = (HOST,PORT)\n",
    "\n",
    "while True:   #serversocket请求处理程式的默认行为是接受连接、获取请求，然后关闭连接。由于这个原因，我们不能在应用程序整个过程中都保持连接\n",
    "      tcpCliSock = socket(AF_INET,SOCK_STREAM)#需要每次向服务器发送消息时，都需要创建一个新的套接字\n",
    "      tcpCliSock.connect(ADDR)\n",
    "      data = input(\"> \")\n",
    "      if not data:\n",
    "            break\n",
    "      tcpCliSock.send(data.encode(\"utf8\"))\n",
    "      tcpCliSock.send('\\r\\n'.encode(\"utf8\"))#服务器对待套接字通信就像文件一样，所以必须发送终止符（回车和换行符）。而服务器只是保留并重用这里的发送的终止符\n",
    "      data = tcpCliSock.recv(BUFSIZ)\n",
    "      if not data:\n",
    "            break\n",
    "      print (data.strip().decode(\"utf8\"))\n",
    "      tcpCliSock.close()"
   ]
  }
 ],
 "metadata": {
  "kernelspec": {
   "display_name": "Python 3",
   "language": "python",
   "name": "python3"
  },
  "language_info": {
   "codemirror_mode": {
    "name": "ipython",
    "version": 3
   },
   "file_extension": ".py",
   "mimetype": "text/x-python",
   "name": "python",
   "nbconvert_exporter": "python",
   "pygments_lexer": "ipython3",
   "version": "3.6.3"
  }
 },
 "nbformat": 4,
 "nbformat_minor": 2
}
